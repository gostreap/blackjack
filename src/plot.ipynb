{
 "cells": [
  {
   "cell_type": "code",
   "execution_count": 1,
   "metadata": {},
   "outputs": [
    {
     "name": "stdout",
     "output_type": "stream",
     "text": [
      "pygame 2.1.2 (SDL 2.0.16, Python 3.10.2)\n",
      "Hello from the pygame community. https://www.pygame.org/contribute.html\n"
     ]
    },
    {
     "name": "stderr",
     "output_type": "stream",
     "text": [
      "\n"
     ]
    }
   ],
   "source": [
    "import matplotlib.pyplot as plt\n",
    "import seaborn as sns\n",
    "\n",
    "from q_learning import QLearning\n",
    "from sarsa import Sarsa\n",
    "from temporal_difference import TemporalDifference\n",
    "from basic_policy import BasicPolicy\n",
    "\n",
    "n_episode = 100000\n",
    "plot_test_size = 10000"
   ]
  },
  {
   "cell_type": "code",
   "execution_count": null,
   "metadata": {},
   "outputs": [],
   "source": [
    "basic2 = BasicPolicy(\"v2\", 0.2, gamma=0.15)\n",
    "basic2.train(n_episode, plot=True, plot_interval=10000, plot_test_size=plot_test_size)"
   ]
  },
  {
   "cell_type": "code",
   "execution_count": null,
   "metadata": {},
   "outputs": [],
   "source": [
    "qlearning1 = QLearning(\"v1\", 0.2, gamma=0.15)\n",
    "qlearning1.train(n_episode, plot=True, plot_interval=10000, plot_test_size=plot_test_size)\n",
    "\n",
    "qlearning2 = QLearning(\"v2\", 0.2, gamma=0.15)\n",
    "qlearning2.train(n_episode, plot=True, plot_interval=10000, plot_test_size=plot_test_size)\n",
    "\n",
    "qlearning3 = QLearning(\"v3\", 0.2, gamma=0.15)\n",
    "qlearning3.train(n_episode, plot=True, plot_interval=10000, plot_test_size=plot_test_size)"
   ]
  },
  {
   "cell_type": "code",
   "execution_count": null,
   "metadata": {},
   "outputs": [],
   "source": [
    "sarsa1 = Sarsa(\"v1\", 0.2, gamma=0.15)\n",
    "sarsa1.train(n_episode, plot=True, plot_interval=10000, plot_test_size=plot_test_size)\n",
    "\n",
    "sarsa2 = Sarsa(\"v2\", 0.2, gamma=0.15)\n",
    "sarsa2.train(n_episode, plot=True, plot_interval=10000, plot_test_size=plot_test_size)\n",
    "\n",
    "sarsa3 = Sarsa(\"v3\", 0.2, gamma=0.15)\n",
    "sarsa3.train(n_episode, plot=True, plot_interval=10000, plot_test_size=plot_test_size)"
   ]
  },
  {
   "cell_type": "code",
   "execution_count": null,
   "metadata": {},
   "outputs": [],
   "source": [
    "temporal_difference1 = TemporalDifference(\"v1\")\n",
    "temporal_difference1.train(n_episode, plot=True, plot_interval=10000, plot_test_size=plot_test_size)\n",
    "\n",
    "temporal_difference2 = TemporalDifference(\"v2\")\n",
    "temporal_difference2.train(n_episode, plot=True, plot_interval=10000, plot_test_size=plot_test_size)\n",
    "\n",
    "temporal_difference3 = TemporalDifference(\"v3\")\n",
    "temporal_difference3.train(n_episode, plot=True, plot_interval=10000, plot_test_size=plot_test_size)"
   ]
  },
  {
   "cell_type": "code",
   "execution_count": null,
   "metadata": {},
   "outputs": [],
   "source": [
    "from dqn import DQNAgent\n",
    "from env_v1 import BlackjackEnv\n",
    "from env_v2 import BlackjackDoubleDownEnv\n",
    "from env_v3 import BlackjackDoubleDownSplitEnv\n",
    "\n",
    "dqn1 = DQNAgent(\n",
    "    BlackjackEnv(),\n",
    "    max_memory_size=30000,\n",
    "    batch_size=128,\n",
    "    gamma=0.2,\n",
    "    lr=0.0025,\n",
    "    epsilon=0.01\n",
    ")\n",
    "dqn1.train(n_episode=n_episode, plot=True, plot_interval=10000, plot_test_size=10000)\n",
    "\n",
    "dqn2 = DQNAgent(\n",
    "    BlackjackDoubleDownEnv(),\n",
    "    max_memory_size=30000,\n",
    "    batch_size=128,\n",
    "    gamma=0.2,\n",
    "    lr=0.0025,\n",
    "    epsilon=0.01\n",
    ")\n",
    "dqn2.train(n_episode=n_episode, plot=True, plot_interval=10000, plot_test_size=10000)\n",
    "\n",
    "dqn3 = DQNAgent(\n",
    "    BlackjackDoubleDownSplitEnv(),\n",
    "    max_memory_size=30000,\n",
    "    batch_size=128,\n",
    "    gamma=0.2,\n",
    "    lr=0.0025,\n",
    "    epsilon=0.01\n",
    ")\n",
    "dqn3.train(n_episode=n_episode, plot=True, plot_interval=10000, plot_test_size=10000)"
   ]
  },
  {
   "cell_type": "code",
   "execution_count": 3,
   "metadata": {},
   "outputs": [],
   "source": [
    "def compare_env(datas, value=\"reward\", label=[\"Stick & Hit\", \"Stick, Hit & Double Down\", \"Stick, Hit, Double Down & Split\"]):\n",
    "    sns.set(rc={\"figure.figsize\":(10, 6)}) #width=3, #height=4\n",
    "    # plt.ylim(-1, 0)\n",
    "    for i, data in enumerate(datas):\n",
    "        plot = sns.lineplot(data=data, x=\"n\", y=value, label=label[i])"
   ]
  },
  {
   "cell_type": "code",
   "execution_count": null,
   "metadata": {},
   "outputs": [],
   "source": [
    "def compare_algorithm(datas, value=\"reward\", label=[\"Q-Learning\", \"Sarsa\", \"Temporal Difference\", \"Deep Q-Learning\", \"Basic Policy\"]):\n",
    "    sns.set(rc={\"figure.figsize\":(10, 6)}) #width=3, #height=4\n",
    "    # plt.ylim(-1, 0)\n",
    "    for i, data in enumerate(datas):\n",
    "        plot = sns.lineplot(data=data, x=\"n\", y=value, label=label[i])\n",
    "    plot.figure.savefig(\"output.png\")"
   ]
  },
  {
   "cell_type": "code",
   "execution_count": null,
   "metadata": {},
   "outputs": [],
   "source": [
    "compare_env([qlearning1.plot, qlearning2.plot, qlearning3.plot], value=\"win\")"
   ]
  },
  {
   "cell_type": "code",
   "execution_count": null,
   "metadata": {},
   "outputs": [],
   "source": [
    "compare_env([sarsa1.plot, sarsa2.plot, sarsa3.plot], value=\"win\")"
   ]
  },
  {
   "cell_type": "code",
   "execution_count": null,
   "metadata": {},
   "outputs": [],
   "source": [
    "compare_env([temporal_difference1.plot, temporal_difference2.plot, temporal_difference3.plot, temporal_difference4.plot], value=\"reward\")"
   ]
  },
  {
   "cell_type": "code",
   "execution_count": null,
   "metadata": {},
   "outputs": [],
   "source": [
    "compare_env([dqn1.plot, dqn2.plot, dqn3.plot], value=\"reward\")\n"
   ]
  },
  {
   "cell_type": "code",
   "execution_count": null,
   "metadata": {},
   "outputs": [],
   "source": [
    "compare_algorithm([qlearning1.plot, sarsa1.plot, temporal_difference1.plot, dqn1.plot], value=\"reward\")"
   ]
  },
  {
   "cell_type": "code",
   "execution_count": null,
   "metadata": {},
   "outputs": [],
   "source": [
    "compare_algorithm([qlearning2.plot, sarsa2.plot, temporal_difference2.plot, dqn2.plot, basic2.plot], value=\"win\")"
   ]
  },
  {
   "cell_type": "code",
   "execution_count": null,
   "metadata": {},
   "outputs": [],
   "source": [
    "compare_algorithm([qlearning3.plot, sarsa3.plot, temporal_difference3.plot, dqn3.plot], value=\"win\")"
   ]
  },
  {
   "cell_type": "code",
   "execution_count": null,
   "metadata": {},
   "outputs": [],
   "source": [
    "import pandas as pd\n",
    "import numpy as np\n",
    "import torch\n",
    "\n",
    "def tablePrintResult(integer):\n",
    "    if integer ==0:\n",
    "        return \"S\"\n",
    "\n",
    "    elif integer ==1:\n",
    "        return \"H\"\n",
    "    else:\n",
    "        return \"DD\"\n",
    "\n",
    "\n",
    "num_row, num_column = 17,10\n",
    "table = np.zeros((num_row,num_column))\n",
    "table_str_hard = np.empty_like(table, dtype=str)\n",
    "\n",
    "for i in range(num_row):\n",
    "    for j in range(num_column):\n",
    "        observation = (4+i,1+j,0,1)\n",
    "        table_str_hard[i,j] = tablePrintResult(dqn2.act(torch.Tensor([observation]), False))\n",
    "\n",
    "\n",
    "df = pd.DataFrame(table_str_hard)\n",
    "df.to_csv(\"../figures/table_dqn_strategy_hard.csv\")\n",
    "\n",
    "num_row_soft, num_column_soft = 9,10\n",
    "table = np.zeros((num_row_soft,num_column_soft))\n",
    "table_str_hard = np.empty_like(table, dtype=str)\n",
    "\n",
    "for i in range(num_row_soft):\n",
    "    for j in range(num_column_soft):\n",
    "        observation = (i+13,1+j,1,1)\n",
    "        table_str_hard[i,j] = tablePrintResult(dqn2.act(torch.Tensor([observation]), False))\n",
    "\n",
    "\n",
    "df = pd.DataFrame(table_str_hard)\n",
    "df.to_csv(\"../figures/table_dqn_strategy_soft.csv\")\n"
   ]
  }
 ],
 "metadata": {
  "interpreter": {
   "hash": "e7370f93d1d0cde622a1f8e1c04877d8463912d04d973331ad4851f04de6915a"
  },
  "kernelspec": {
   "display_name": "Python 3.10.2 64-bit",
   "language": "python",
   "name": "python3"
  },
  "language_info": {
   "codemirror_mode": {
    "name": "ipython",
    "version": 3
   },
   "file_extension": ".py",
   "mimetype": "text/x-python",
   "name": "python",
   "nbconvert_exporter": "python",
   "pygments_lexer": "ipython3",
   "version": "3.10.2"
  },
  "orig_nbformat": 4
 },
 "nbformat": 4,
 "nbformat_minor": 2
}
